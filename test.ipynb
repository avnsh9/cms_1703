{
 "cells": [
  {
   "cell_type": "code",
   "execution_count": 21,
   "metadata": {},
   "outputs": [],
   "source": [
    "import numpy as np"
   ]
  },
  {
   "cell_type": "code",
   "execution_count": 22,
   "metadata": {},
   "outputs": [],
   "source": [
    "signal=np.genfromtxt('/home/avnsh9/workspace/checkmate2/results/My_New_Run/analysis/myprocess_cms1703_test_signal.dat', skip_header=14,skip_footer=7,usecols=4)"
   ]
  },
  {
   "cell_type": "code",
   "execution_count": 23,
   "metadata": {},
   "outputs": [
    {
     "data": {
      "text/plain": [
       "array([ 3256.34,  3256.34, 22794.4 ,  1628.17,  2261.34,  1266.35,\n",
       "        1628.17,  3256.34,  4613.14,  3799.06,  4613.14,  4522.69,\n",
       "        5608.13,  5065.41,  5336.77,  6422.22,  4974.96,  5336.77,\n",
       "        4703.6 ,  4432.23,  3346.79,  4160.87])"
      ]
     },
     "execution_count": 23,
     "metadata": {},
     "output_type": "execute_result"
    }
   ],
   "source": [
    "signal"
   ]
  },
  {
   "cell_type": "code",
   "execution_count": 6,
   "metadata": {},
   "outputs": [
    {
     "data": {
      "text/plain": [
       "array([ 4794.05,  5879.5 , 32925.2 ,  1628.17,  1989.98,  2080.44,\n",
       "        2532.71,  3437.24,  5517.68,  4160.87,  5155.86,  4974.96,\n",
       "        6874.49,  6603.13,  8412.2 ,  8412.2 ,  6241.31,  6331.76,\n",
       "        7236.3 ,  7236.3 ,  5427.23,  6603.13])"
      ]
     },
     "execution_count": 6,
     "metadata": {},
     "output_type": "execute_result"
    }
   ],
   "source": [
    "signal"
   ]
  },
  {
   "cell_type": "code",
   "execution_count": 24,
   "metadata": {},
   "outputs": [],
   "source": [
    "s=np.append(signal,[signal[0],signal[1],signal[2]])"
   ]
  },
  {
   "cell_type": "code",
   "execution_count": 25,
   "metadata": {},
   "outputs": [],
   "source": [
    "s_new=np.delete(s,[0,1,2])"
   ]
  },
  {
   "cell_type": "code",
   "execution_count": 26,
   "metadata": {},
   "outputs": [
    {
     "data": {
      "text/plain": [
       "array([ 1628.17,  2261.34,  1266.35,  1628.17,  3256.34,  4613.14,\n",
       "        3799.06,  4613.14,  4522.69,  5608.13,  5065.41,  5336.77,\n",
       "        6422.22,  4974.96,  5336.77,  4703.6 ,  4432.23,  3346.79,\n",
       "        4160.87,  3256.34,  3256.34, 22794.4 ])"
      ]
     },
     "execution_count": 26,
     "metadata": {},
     "output_type": "execute_result"
    }
   ],
   "source": [
    "s_new"
   ]
  },
  {
   "cell_type": "code",
   "execution_count": 27,
   "metadata": {},
   "outputs": [],
   "source": [
    "bin=np.loadtxt('data1703.dat',skiprows=1,usecols=3)"
   ]
  },
  {
   "cell_type": "code",
   "execution_count": 28,
   "metadata": {},
   "outputs": [
    {
     "data": {
      "text/plain": [
       "array([30., 30., 30., 30., 30., 40., 40., 40., 40., 40., 40., 50., 50.,\n",
       "       50., 50., 50., 60., 60., 60., 70., 70., 80.])"
      ]
     },
     "execution_count": 28,
     "metadata": {},
     "output_type": "execute_result"
    }
   ],
   "source": [
    "bin"
   ]
  },
  {
   "cell_type": "code",
   "execution_count": 29,
   "metadata": {},
   "outputs": [],
   "source": [
    "result=np.divide(s_new,bin)"
   ]
  },
  {
   "cell_type": "code",
   "execution_count": 30,
   "metadata": {},
   "outputs": [
    {
     "data": {
      "text/plain": [
       "array([ 54.27233333,  75.378     ,  42.21166667,  54.27233333,\n",
       "       108.54466667, 115.3285    ,  94.9765    , 115.3285    ,\n",
       "       113.06725   , 140.20325   , 126.63525   , 106.7354    ,\n",
       "       128.4444    ,  99.4992    , 106.7354    ,  94.072     ,\n",
       "        73.8705    ,  55.77983333,  69.34783333,  46.51914286,\n",
       "        46.51914286, 284.93      ])"
      ]
     },
     "execution_count": 30,
     "metadata": {},
     "output_type": "execute_result"
    }
   ],
   "source": [
    "result"
   ]
  },
  {
   "cell_type": "code",
   "execution_count": null,
   "metadata": {},
   "outputs": [],
   "source": []
  }
 ],
 "metadata": {
  "interpreter": {
   "hash": "31f2aee4e71d21fbe5cf8b01ff0e069b9275f58929596ceb00d14d90e3e16cd6"
  },
  "kernelspec": {
   "display_name": "Python 3.6.9 64-bit",
   "language": "python",
   "name": "python3"
  },
  "language_info": {
   "codemirror_mode": {
    "name": "ipython",
    "version": 3
   },
   "file_extension": ".py",
   "mimetype": "text/x-python",
   "name": "python",
   "nbconvert_exporter": "python",
   "pygments_lexer": "ipython3",
   "version": "3.6.9"
  },
  "orig_nbformat": 4
 },
 "nbformat": 4,
 "nbformat_minor": 2
}
