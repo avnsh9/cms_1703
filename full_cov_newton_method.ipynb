{
 "cells": [
  {
   "cell_type": "markdown",
   "metadata": {},
   "source": [
    "# Expression for simplified likelihood"
   ]
  },
  {
   "cell_type": "code",
   "execution_count": null,
   "metadata": {},
   "outputs": [],
   "source": [
    "from math import *"
   ]
  },
  {
   "cell_type": "code",
   "execution_count": null,
   "metadata": {},
   "outputs": [],
   "source": [
    "import matplotlib.pyplot as plt\n",
    "from sympy import *\n"
   ]
  },
  {
   "cell_type": "markdown",
   "metadata": {},
   "source": [
    "$$L_s(\\mu,\\theta)=\\prod_{i=1}^{N}{\\frac{(\\mu\\cdot s_i+b_i+\\theta_i)^{n_i}e^{-(\\mu\\cdot s_i+b_i+\\theta_i)}}{n_i!}}\\cdot exp\\; ( \\;   -\\frac{1}{2}\\theta^TV^{-1}\\theta) $$\n"
   ]
  },
  {
   "cell_type": "markdown",
   "metadata": {},
   "source": [
    "# Log likelihood will be:"
   ]
  },
  {
   "cell_type": "markdown",
   "metadata": {},
   "source": [
    "$$[\\sum_{i=1}^{N}{n_i\\ln(\\mu\\cdot s_i+b_i+\\theta_i) -(\\mu\\cdot s_i+b_i+\\theta_i) - \\ln n_i!}]\\; -\\frac{1}{2} \\theta^TV^{-1}\\theta$$"
   ]
  },
  {
   "cell_type": "code",
   "execution_count": 1,
   "metadata": {},
   "outputs": [],
   "source": [
    "import numpy as np \n",
    "import matplotlib.pyplot as plt\n",
    "from sympy import *\n",
    "import math\n",
    "from tqdm import tqdm"
   ]
  },
  {
   "cell_type": "code",
   "execution_count": 2,
   "metadata": {},
   "outputs": [],
   "source": [
    "a,b,c,d,e,f,g,h=symbols('theta_1 theta_2 theta_3 theta_4 theta_5 theta_6 theta_7 theta_8')"
   ]
  },
  {
   "cell_type": "code",
   "execution_count": 3,
   "metadata": {},
   "outputs": [],
   "source": [
    "theta=Matrix([a,b,c,d,e,f,g,h])"
   ]
  },
  {
   "cell_type": "code",
   "execution_count": null,
   "metadata": {},
   "outputs": [],
   "source": [
    "theta"
   ]
  },
  {
   "cell_type": "code",
   "execution_count": 4,
   "metadata": {},
   "outputs": [],
   "source": [
    "# initialisation of values\n",
    "signal= np.loadtxt('toydata.dat', usecols=(2) )\n",
    "events=np.loadtxt('toydata.dat', usecols=0)\n",
    "bkg=np.loadtxt('toydata.dat', usecols=1)\n",
    "event=np.loadtxt('toydata.dat', dtype=int, usecols=0)"
   ]
  },
  {
   "cell_type": "code",
   "execution_count": 5,
   "metadata": {},
   "outputs": [],
   "source": [
    "covar=Matrix([[16787.2, -1691.3, -4520.3, -3599.9, -2286.4, -1316.5, -719.8, -381.1],\n",
    "[-1691.3, 603.1, 754.6, 513.3, 294, 154.9, 78.1, 38.3],\n",
    "[-4520.3, 754.6, 1454, 1110.9, 691.1, 392.3, 212.1, 111.2],\n",
    "[-3599.9, 513.3, 1110.9, 871.2, 551.8, 318.1, 174.3, 92.5],\n",
    "[-2286.4, 294, 691.1, 551.8, 353.9, 206.2, 114.1, 61],\n",
    "[-1316.5, 154.9, 392.3, 318.1, 206.2, 121.3, 67.6, 36.4],\n",
    "[-719.8, 78.1, 212.1, 174.3, 114.1, 67.6, 38, 20.6],\n",
    "[-381.1, 38.3, 111.2, 92.5, 61, 36.4, 20.6, 11.2\n",
    "]])\n"
   ]
  },
  {
   "cell_type": "code",
   "execution_count": 6,
   "metadata": {},
   "outputs": [],
   "source": [
    "covar_inv=covar**(-1)"
   ]
  },
  {
   "cell_type": "code",
   "execution_count": 7,
   "metadata": {},
   "outputs": [
    {
     "data": {
      "text/latex": [
       "$\\displaystyle \\left[\\begin{matrix}0.0880281704331599 & -0.60105205964865 & 1.30430612315071 & -0.844329867930896 & -0.0258021672667146 & -0.106942791126909 & 0.191022978001308 & -0.789189466131077\\\\-0.601052059648645 & 4.18956006522348 & -9.34932533976417 & 6.48613702656857 & 0.23289043016035 & 0.178077299770122 & -1.75561398800487 & 5.86013666031353\\\\1.30430612315067 & -9.34932533976399 & 22.0606904822456 & -17.6206972967423 & 0.277106812664878 & 2.01916879350723 & 6.27249527201773 & -16.7588142759955\\\\-0.84432986793081 & 6.486137026568 & -17.6206972967413 & 19.650119814013 & -4.9913776069922 & -5.09130582297956 & -10.9016181967469 & 25.5324282724469\\\\-0.0258021672667659 & 0.232890430160741 & 0.277106812663825 & -4.99137760699113 & 9.11836829564807 & -3.10757278229965 & 9.84167437761756 & -20.8667917214112\\\\-0.106942791126945 & 0.178077299770364 & 2.01916879350679 & -5.09130582297963 & -3.10757278229909 & 13.6405033980106 & -3.6762644332697 & -2.89137286910775\\\\0.191022978001242 & -1.75561398800442 & 6.27249527201682 & -10.9016181967467 & 9.84167437761836 & -3.67626443326985 & -3.42588119022552 & 4.90929664844537\\\\-0.789189466130938 & 5.86013666031258 & -16.7588142759935 & 25.5324282724465 & -20.866791721413 & -2.89137286910727 & 4.90929664844558 & 22.7335668875385\\end{matrix}\\right]$"
      ],
      "text/plain": [
       "Matrix([\n",
       "[ 0.0880281704331599, -0.60105205964865,  1.30430612315071, -0.844329867930896, -0.0258021672667146, -0.106942791126909, 0.191022978001308, -0.789189466131077],\n",
       "[ -0.601052059648645,  4.18956006522348, -9.34932533976417,   6.48613702656857,    0.23289043016035,  0.178077299770122, -1.75561398800487,   5.86013666031353],\n",
       "[   1.30430612315067, -9.34932533976399,  22.0606904822456,  -17.6206972967423,   0.277106812664878,   2.01916879350723,  6.27249527201773,  -16.7588142759955],\n",
       "[  -0.84432986793081,    6.486137026568, -17.6206972967413,    19.650119814013,    -4.9913776069922,  -5.09130582297956, -10.9016181967469,   25.5324282724469],\n",
       "[-0.0258021672667659, 0.232890430160741, 0.277106812663825,  -4.99137760699113,    9.11836829564807,  -3.10757278229965,  9.84167437761756,  -20.8667917214112],\n",
       "[ -0.106942791126945, 0.178077299770364,  2.01916879350679,  -5.09130582297963,   -3.10757278229909,   13.6405033980106,  -3.6762644332697,  -2.89137286910775],\n",
       "[  0.191022978001242, -1.75561398800442,  6.27249527201682,  -10.9016181967467,    9.84167437761836,  -3.67626443326985, -3.42588119022552,   4.90929664844537],\n",
       "[ -0.789189466130938,  5.86013666031258, -16.7588142759935,   25.5324282724465,    -20.866791721413,  -2.89137286910727,  4.90929664844558,   22.7335668875385]])"
      ]
     },
     "execution_count": 7,
     "metadata": {},
     "output_type": "execute_result"
    }
   ],
   "source": [
    "covar_inv"
   ]
  },
  {
   "cell_type": "markdown",
   "metadata": {},
   "source": [
    "# MLE for $\\mu$ :\n"
   ]
  },
  {
   "cell_type": "markdown",
   "metadata": {},
   "source": [
    "$$\\sum_{i=1}^N{\\frac{n_i\\cdot s_i}{\\hat{\\mu} \\cdot s_i+b_i+\\theta_i}} = \\sum_{i=1}^N{s_i}$$"
   ]
  },
  {
   "cell_type": "markdown",
   "metadata": {},
   "source": [
    "# MLE for $\\theta_i$:"
   ]
  },
  {
   "cell_type": "markdown",
   "metadata": {},
   "source": [
    "$$\\frac{n_i}{\\mu \\cdot s_i+b_i+\\hat{\\theta_i}}=1+\\sum_j{V^{-1}_{ij}\\theta_j}$$"
   ]
  },
  {
   "cell_type": "markdown",
   "metadata": {},
   "source": [
    "## we will use newtons iteration method to solve these 8 simul polynomial equations"
   ]
  },
  {
   "cell_type": "markdown",
   "metadata": {},
   "source": [
    "## matrix form "
   ]
  },
  {
   "cell_type": "markdown",
   "metadata": {},
   "source": [
    "$$F(\\theta)=diag(\\mu\\cdot s+b+\\theta)([1]+[V^{-1}][\\theta])-[n]$$"
   ]
  },
  {
   "cell_type": "code",
   "execution_count": 8,
   "metadata": {},
   "outputs": [],
   "source": [
    "#generating F[\\theta]\n",
    "u=symbols('\\mu')\n",
    "k=Matrix(u*signal+bkg)+theta\n",
    "k=diag(k[0],k[1],k[2],k[3],k[4],k[5],k[6],k[7])"
   ]
  },
  {
   "cell_type": "code",
   "execution_count": 9,
   "metadata": {},
   "outputs": [],
   "source": [
    "# F[\\theta]\n",
    "F_theta=k*(covar_inv*theta+Matrix([1,1,1,1,1,1,1,1]))-Matrix(events)"
   ]
  },
  {
   "cell_type": "code",
   "execution_count": 10,
   "metadata": {},
   "outputs": [],
   "source": [
    "#Jacobian for F[\\theta]\n",
    "JF_theta=F_theta.jacobian(theta)"
   ]
  },
  {
   "cell_type": "code",
   "execution_count": 11,
   "metadata": {},
   "outputs": [],
   "source": [
    "# initial guess for solution\n",
    "guess=Matrix([0,0,0,0,0,0,0,0])"
   ]
  },
  {
   "cell_type": "code",
   "execution_count": 12,
   "metadata": {},
   "outputs": [
    {
     "name": "stderr",
     "output_type": "stream",
     "text": [
      "100%|██████████| 231/231 [15:01<00:00,  3.90s/it]\n"
     ]
    }
   ],
   "source": [
    "# applying newtons iteration method to find root with an inital guess=guess[]\n",
    "with open('thetas.dat','w') as wf:\n",
    "    for j in tqdm(range(231)):\n",
    "        l=j*0.01\n",
    "    \n",
    "        for i in range(10):\n",
    "                n=(JF_theta.subs({u:-0.4+l,a:guess[0],b:guess[1],c:guess[2],d:guess[3],e:guess[4],f:guess[5],g:guess[6],h:guess[7]})**-1)*(F_theta.subs({u:-0.4+l,a:guess[0],b:guess[1],c:guess[2],d:guess[3],e:guess[4],f:guess[5],g:guess[6],h:guess[7]}))\n",
    "                guess=guess-n\n",
    "        wf.write('%2.4f  %3.4f  %3.4f  %3.4f  %3.4f  %3.4f  %3.4f  %3.4f  %3.4f  \\n'%(-0.4+l,guess[0],guess[1],guess[2],guess[3],guess[4],guess[5],guess[6],guess[7]))\n",
    "        guess=Matrix([0,0,0,0,0,0,0,0])"
   ]
  },
  {
   "cell_type": "code",
   "execution_count": 13,
   "metadata": {},
   "outputs": [],
   "source": [
    "#generating log likelihood for each \\mu and \\theta from the generated file 'thetas.dat'\n",
    "\n",
    "theta1=np.loadtxt('thetas.dat', usecols=(1))\n",
    "theta2=np.loadtxt('thetas.dat', usecols=(2))\n",
    "theta3=np.loadtxt('thetas.dat', usecols=(3))\n",
    "theta4=np.loadtxt('thetas.dat', usecols=(4))\n",
    "theta5=np.loadtxt('thetas.dat', usecols=(5))\n",
    "theta6=np.loadtxt('thetas.dat', usecols=(6))\n",
    "theta7=np.loadtxt('thetas.dat', usecols=(7))\n",
    "theta8=np.loadtxt('thetas.dat', usecols=(8))\n",
    "thetass=[theta1,theta2,theta3,theta4,theta5,theta6,theta7,theta8]"
   ]
  },
  {
   "cell_type": "code",
   "execution_count": 14,
   "metadata": {},
   "outputs": [],
   "source": [
    "#generating log likelihood file\n",
    "with open('llh_full.dat','w') as wf:\n",
    "    for i in range(231):\n",
    "        m=i*0.01\n",
    "        o=theta.subs({a:theta1[i],b:theta2[i],c:theta3[i],d:theta4[i],e:theta5[i],f:theta6[i],g:theta7[i],h:theta8[i]})\n",
    "        p=(1/2)*o.T*covar_inv*o\n",
    "        sum1=0\n",
    "        \n",
    "        for j in range (8):\n",
    "            q=(-0.4+m)*signal[j]+bkg[j]+thetass[j][i]\n",
    "            \n",
    "            r=events[j]*math.log(q)-q-math.log(math.factorial(event[j]))\n",
    "            \n",
    "            sum1=sum1+r\n",
    "        z=Matrix([sum1])-p\n",
    "        wf.write('%1.2f  %8.4f  \\n'%(-0.4+m,z[0]))\n",
    "             \n",
    "            \n",
    "        "
   ]
  },
  {
   "cell_type": "markdown",
   "metadata": {},
   "source": [
    "## now for different values of $\\mu$ and with corresponding $[\\hat{\\theta}]$ we will plot log likelihood and will profile out the $\\hat{\\mu}$ for which log likelihood is maximum"
   ]
  },
  {
   "cell_type": "code",
   "execution_count": 15,
   "metadata": {},
   "outputs": [
    {
     "data": {
      "image/png": "[encoded data removed]",
      "text/plain": [
       "<matplotlib.figure.Figure at 0x7f592295fcf8>"
      ]
     },
     "metadata": {
      "needs_background": "light"
     },
     "output_type": "display_data"
    }
   ],
   "source": [
    "x=np.loadtxt('llh_full.dat', usecols=0)\n",
    "y=np.loadtxt('llh_full.dat', usecols=1)\n",
    "plt.plot(x,y)\n",
    "plt.plot(.71,-28.7216, 'ro')\n",
    "plt.show()"
   ]
  },
  {
   "cell_type": "markdown",
   "metadata": {},
   "source": [
    "## from the file 'llh_full.dat' we see that maximum value of the likelihood occurs at $\\mu=0.71$"
   ]
  },
  {
   "cell_type": "markdown",
   "metadata": {},
   "source": [
    "# plotting $q(\\mu) vs \\mu$ for both full correlation and no correlation case"
   ]
  },
  {
   "cell_type": "code",
   "execution_count": 16,
   "metadata": {},
   "outputs": [],
   "source": [
    "llh_full=-28.7216"
   ]
  },
  {
   "cell_type": "code",
   "execution_count": 17,
   "metadata": {},
   "outputs": [],
   "source": [
    "# q(u):\n",
    "llh1=np.loadtxt('llh_full.dat', usecols=1)\n",
    "q_u=(llh1-llh_full)*(-2)"
   ]
  },
  {
   "cell_type": "code",
   "execution_count": null,
   "metadata": {},
   "outputs": [],
   "source": [
    "# no correlation case data imported from 'simplified_no_cov' file\n",
    "%store -r x1\n",
    "%store -r q_u_noco"
   ]
  },
  {
   "cell_type": "code",
   "execution_count": null,
   "metadata": {},
   "outputs": [],
   "source": [
    "cms_x_full=np.loadtxt('CMS.dat', skiprows=2,usecols=0)\n",
    "cms_y_full=np.loadtxt('CMS.dat', skiprows=2,usecols=1)\n",
    "cms_x_noco=np.loadtxt('CMS_noco.dat',skiprows=2,usecols=0)\n",
    "cms_y_noco=np.loadtxt('CMS_noco.dat', skiprows=2,usecols=1)\n"
   ]
  },
  {
   "cell_type": "code",
   "execution_count": null,
   "metadata": {},
   "outputs": [],
   "source": [
    "full_x=np.loadtxt('full-cms.dat',skiprows=1,usecols=0)\n",
    "full_y=np.loadtxt('full-cms.dat',skiprows=1,usecols=1)\n"
   ]
  },
  {
   "cell_type": "code",
   "execution_count": 19,
   "metadata": {},
   "outputs": [
    {
     "data": {
      "image/png": "[encoded data removed]",
      "text/plain": [
       "<matplotlib.figure.Figure at 0x7f5921bd9080>"
      ]
     },
     "metadata": {
      "needs_background": "light"
     },
     "output_type": "display_data"
    }
   ],
   "source": [
    "plt.plot(x,q_u)\n",
    "plt.axis([-0.5,2.2,0,6])\n",
    "# plt.plot(x1,q_u_noco)\n",
    "# plt.plot(cms_x_full,cms_y_full,'r')\n",
    "# plt.plot(cms_x_noco,cms_y_noco,'b')\n",
    "# plt.plot(full_x,full_y)\n",
    "\n",
    "#plt.annotate('full corelation',xy=(-.3,5),xytext=(0,5.7),arrowprops={'facecolor':'blue'})\n",
    "#plt.annotate('no corelation',xy=(.2,4),xytext=(1,5.7),arrowprops={'facecolor':'orange'})\n",
    "# plt.legend(['full correlation','no correlation','given full correlation','given no correlation','cms full likelihood'])\n",
    "\n",
    "plt.xlabel('u')\n",
    "plt.ylabel('q(u)')\n",
    "#plt.savefig('final.png', dpi=400)\n",
    "plt.show()"
   ]
  },
  {
   "cell_type": "code",
   "execution_count": null,
   "metadata": {},
   "outputs": [],
   "source": [
    "plt.savefig('full.png')"
   ]
  },
  {
   "cell_type": "code",
   "execution_count": null,
   "metadata": {},
   "outputs": [],
   "source": [
    "pos_cms=[]"
   ]
  },
  {
   "cell_type": "code",
   "execution_count": null,
   "metadata": {},
   "outputs": [],
   "source": [
    "for i in range(len(cms_x_full)):\n",
    "    for j in range(len(x)):\n",
    "        if cms_x_full[i]==x[j]:\n",
    "            pos_cms.append(j)\n",
    "\n"
   ]
  },
  {
   "cell_type": "code",
   "execution_count": null,
   "metadata": {},
   "outputs": [],
   "source": [
    "pos_cms"
   ]
  },
  {
   "cell_type": "code",
   "execution_count": null,
   "metadata": {},
   "outputs": [],
   "source": [
    "our_qu=[]\n",
    "for i in pos_cms:\n",
    "    our_qu.append(q_u[i])"
   ]
  },
  {
   "cell_type": "code",
   "execution_count": null,
   "metadata": {},
   "outputs": [],
   "source": [
    "fnl_cms=cms_y_full/our_qu"
   ]
  },
  {
   "cell_type": "code",
   "execution_count": null,
   "metadata": {},
   "outputs": [],
   "source": [
    "fnl_cms"
   ]
  },
  {
   "cell_type": "code",
   "execution_count": null,
   "metadata": {},
   "outputs": [],
   "source": [
    "from __future__ import division"
   ]
  },
  {
   "cell_type": "code",
   "execution_count": null,
   "metadata": {},
   "outputs": [],
   "source": []
  }
 ],
 "metadata": {
  "interpreter": {
   "hash": "457849ddbb0399e8fcf60e75438727f1cf31abfc670f931192d8404eab6dcb4d"
  },
  "kernelspec": {
   "display_name": "Python 3.8.0 64-bit ('manim': venv)",
   "name": "python3"
  },
  "language_info": {
   "codemirror_mode": {
    "name": "ipython",
    "version": 3
   },
   "file_extension": ".py",
   "mimetype": "text/x-python",
   "name": "python",
   "nbconvert_exporter": "python",
   "pygments_lexer": "ipython3",
   "version": "3.6.9"
  }
 },
 "nbformat": 4,
 "nbformat_minor": 4
}
