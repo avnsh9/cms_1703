{
 "cells": [
  {
   "cell_type": "code",
   "execution_count": 86,
   "metadata": {},
   "outputs": [],
   "source": [
    "import numpy as np \n",
    "import matplotlib.pyplot as plt\n",
    "from sympy import *\n",
    "\n",
    "import math\n"
   ]
  },
  {
   "cell_type": "code",
   "execution_count": 87,
   "metadata": {},
   "outputs": [],
   "source": [
    "from tqdm import tqdm"
   ]
  },
  {
   "cell_type": "code",
   "execution_count": 88,
   "metadata": {},
   "outputs": [],
   "source": [
    "#################\n",
    "# initialisation of values\n",
    "signal_temp=np.loadtxt('./signal.dat', usecols=(1))\n",
    "events=np.loadtxt('./data1703.dat', usecols=0,skiprows=1)\n",
    "bkg=np.loadtxt('./data1703.dat', usecols=1,skiprows=1)\n",
    "event=np.loadtxt('./data1703.dat', dtype=int, usecols=0,skiprows=1)\n",
    "bin_size=np.loadtxt('./data1703.dat', usecols=3,skiprows=1)\n",
    "bkg_err=np.loadtxt('./data1703.dat', usecols=4,skiprows=1)\n",
    "signal=np.array([152.898, 110.269, 82.4174,  83.5542 , 61.3867,  64.2287,  48.3136,  31.2618 , 25.5778 , 16.4835\n",
    ", 21.0306 , 14.7783 , 11.3679  ,10.2311 ,  2.84198,  2.27358 , 1.70519 , 3.97877,\n",
    "  0.    ,   2.84198,  1.70519 , 4.54717])\n",
    "\n",
    "\n"
   ]
  },
  {
   "cell_type": "code",
   "execution_count": 89,
   "metadata": {},
   "outputs": [
    {
     "data": {
      "text/plain": [
       "array([152.898  , 110.269  ,  82.4174 ,  83.5542 ,  61.3867 ,  64.2287 ,\n",
       "        48.3136 ,  31.2618 ,  25.5778 ,  16.4835 ,  21.0306 ,  14.7783 ,\n",
       "        11.3679 ,  10.2311 ,   2.84198,   2.27358,   1.70519,   3.97877,\n",
       "         0.     ,   2.84198,   1.70519,   4.54717])"
      ]
     },
     "execution_count": 89,
     "metadata": {},
     "output_type": "execute_result"
    }
   ],
   "source": [
    "signal"
   ]
  },
  {
   "cell_type": "code",
   "execution_count": 90,
   "metadata": {},
   "outputs": [],
   "source": [
    "a,b,c,d,e,f,g,h,i,j,k,l,m,n,o,p,q,r,s,t,u,v=symbols('theta_1 theta_2 theta_3 theta_4 theta_5 theta_6 theta_7 theta_8 theta_9 theta_10 theta_11 theta_12 theta_13 theta_14 theta_15 theta_16 theta_17 theta_18 theta_19 theta_20 theta_21 theta_22')\n"
   ]
  },
  {
   "cell_type": "code",
   "execution_count": 91,
   "metadata": {},
   "outputs": [],
   "source": [
    "theta=Matrix([a,b,c,d,e,f,g,h,i,j,k,l,m,n,o,p,q,r,s,t,u,v])"
   ]
  },
  {
   "cell_type": "code",
   "execution_count": 92,
   "metadata": {},
   "outputs": [
    {
     "name": "stdout",
     "output_type": "stream",
     "text": [
      "[[ 1.60000e+07  8.18400e+06  4.04800e+06  2.19240e+06  1.31200e+06\n",
      "   1.07520e+06  6.08000e+05  3.55200e+05  2.11720e+05  1.17120e+05\n",
      "   8.14000e+04  6.94400e+04  3.64800e+04  2.08000e+04  1.21600e+04\n",
      "   7.65600e+03  1.15200e+04  4.41600e+03  1.08800e+03  3.12000e+03\n",
      "   1.06400e+03  1.32000e+03]\n",
      " [ 8.18400e+06  4.84000e+06  2.22640e+06  1.16424e+06  7.12800e+05\n",
      "   5.98400e+05  3.21200e+05  1.87440e+05  1.14708e+05  6.01920e+04\n",
      "   4.63980e+04  3.94240e+04  1.92280e+04  1.08680e+04  6.51200e+03\n",
      "   3.92040e+03  6.17760e+03  2.95680e+03  5.23600e+02  1.78200e+03\n",
      "   5.85200e+02  5.94000e+02]\n",
      " [ 4.04800e+06  2.22640e+06  1.21000e+06  5.82120e+05  3.65200e+05\n",
      "   2.92160e+05  1.62800e+05  9.37200e+04  5.82230e+04  3.11520e+04\n",
      "   2.15710e+04  1.81720e+04  9.19600e+03  4.86200e+03  3.34400e+03\n",
      "   1.81500e+03  3.24720e+03  1.32000e+03  4.11400e+02  7.92000e+02\n",
      "   4.18000e+02  3.30000e+02]\n",
      " [ 2.19240e+06  1.16424e+06  5.82120e+05  3.96900e+05  1.94040e+05\n",
      "   1.53216e+05  8.94600e+04  5.44320e+04  2.98620e+04  1.75392e+04\n",
      "   1.23543e+04  1.00548e+04  5.62590e+03  3.11220e+03  1.81440e+03\n",
      "   1.24740e+03  1.72368e+03  8.46720e+02  2.57040e+02  5.10300e+02\n",
      "   1.91520e+02  2.26800e+02]\n",
      " [ 1.31200e+06  7.12800e+05  3.65200e+05  1.94040e+05  1.60000e+05\n",
      "   9.85600e+04  5.52000e+04  3.31200e+04  1.92760e+04  1.07520e+04\n",
      "   8.28800e+03  6.38400e+03  2.96400e+03  1.66400e+03  1.31200e+03\n",
      "   7.39200e+02  1.15200e+03  4.99200e+02  1.22400e+02  3.00000e+02\n",
      "   7.60000e+01  1.32000e+02]\n",
      " [ 1.07520e+06  5.98400e+05  2.92160e+05  1.53216e+05  9.85600e+04\n",
      "   1.02400e+05  4.41600e+04  2.68800e+04  1.54208e+04  8.44800e+03\n",
      "   6.51200e+03  5.10720e+03  2.61440e+03  1.53920e+03  1.02400e+03\n",
      "   5.70240e+02  7.14240e+02  3.99360e+02  1.08800e+02  2.59200e+02\n",
      "   9.12000e+01  1.24800e+02]\n",
      " [ 6.08000e+05  3.21200e+05  1.62800e+05  8.94600e+04  5.52000e+04\n",
      "   4.41600e+04  4.00000e+04  1.56000e+04  9.63800e+03  4.99200e+03\n",
      "   4.07000e+03  2.68800e+03  1.59600e+03  8.58000e+02  5.92000e+02\n",
      "   3.69600e+02  5.32800e+02  2.68800e+02  2.72000e+01  1.50000e+02\n",
      "   3.80000e+01  7.80000e+01]\n",
      " [ 3.55200e+05  1.87440e+05  9.37200e+04  5.44320e+04  3.31200e+04\n",
      "   2.68800e+04  1.56000e+04  1.44000e+04  5.59320e+03  3.22560e+03\n",
      "   2.44200e+03  1.74720e+03  9.57600e+02  5.61600e+02  3.74400e+02\n",
      "   2.29680e+02  3.02400e+02  1.15200e+02  2.44800e+01  8.28000e+01\n",
      "   2.96400e+01  5.04000e+01]\n",
      " [ 2.11720e+05  1.14708e+05  5.82230e+04  2.98620e+04  1.92760e+04\n",
      "   1.54208e+04  9.63800e+03  5.59320e+03  6.24100e+03  1.82016e+03\n",
      "   1.49073e+03  1.15024e+03  6.90460e+02  3.18370e+02  2.46480e+02\n",
      "   1.25136e+02  1.99080e+02  7.96320e+01  3.49180e+01  4.26600e+01\n",
      "   2.70180e+01  9.48000e+00]\n",
      " [ 1.17120e+05  6.01920e+04  3.11520e+04  1.75392e+04  1.07520e+04\n",
      "   8.44800e+03  4.99200e+03  3.22560e+03  1.82016e+03  2.30400e+03\n",
      "   6.57120e+02  5.64480e+02  3.64800e+02  1.80960e+02  1.26720e+02\n",
      "   6.96960e+01  9.67680e+01  3.45600e+01  4.89600e+00  4.17600e+01\n",
      "   1.09440e+01  2.30400e+01]\n",
      " [ 8.14000e+04  4.63980e+04  2.15710e+04  1.23543e+04  8.28800e+03\n",
      "   6.51200e+03  4.07000e+03  2.44200e+03  1.49073e+03  6.57120e+02\n",
      "   1.36900e+03  4.76560e+02  2.88230e+02  9.13900e+01  7.40000e+01\n",
      "   5.12820e+01  6.39360e+01  4.44000e+01 -1.25800e+00  2.44200e+01\n",
      "   8.43600e+00  5.55000e+00]\n",
      " [ 6.94400e+04  3.94240e+04  1.81720e+04  1.00548e+04  6.38400e+03\n",
      "   5.10720e+03  2.68800e+03  1.74720e+03  1.15024e+03  5.64480e+02\n",
      "   4.76560e+02  7.84000e+02  2.34080e+02  1.27400e+02  7.16800e+01\n",
      "   3.88080e+01  5.44320e+01  3.62880e+01  9.52000e+00  2.01600e+01\n",
      "   4.78800e+00 -2.52000e+00]\n",
      " [ 3.64800e+04  1.92280e+04  9.19600e+03  5.62590e+03  2.96400e+03\n",
      "   2.61440e+03  1.59600e+03  9.57600e+02  6.90460e+02  3.64800e+02\n",
      "   2.88230e+02  2.34080e+02  3.61000e+02  5.68100e+01  3.49600e+01\n",
      "   1.75560e+01  2.87280e+01  2.00640e+01  5.81400e+00  1.48200e+01\n",
      "   4.33200e+00  4.56000e+00]\n",
      " [ 2.08000e+04  1.08680e+04  4.86200e+03  3.11220e+03  1.66400e+03\n",
      "   1.53920e+03  8.58000e+02  5.61600e+02  3.18370e+02  1.80960e+02\n",
      "   9.13900e+01  1.27400e+02  5.68100e+01  1.69000e+02  1.45600e+01\n",
      "   1.80180e+01  1.31040e+01  1.18560e+01  0.00000e+00  6.63000e+00\n",
      "   0.00000e+00  1.95000e+00]\n",
      " [ 1.21600e+04  6.51200e+03  3.34400e+03  1.81440e+03  1.31200e+03\n",
      "   1.02400e+03  5.92000e+02  3.74400e+02  2.46480e+02  1.26720e+02\n",
      "   7.40000e+01  7.16800e+01  3.49600e+01  1.45600e+01  6.40000e+01\n",
      "   8.44800e+00  8.06400e+00  7.29600e+00  2.44800e+00  3.12000e+00\n",
      "   6.08000e-01  9.60000e-01]\n",
      " [ 7.65600e+03  3.92040e+03  1.81500e+03  1.24740e+03  7.39200e+02\n",
      "   5.70240e+02  3.69600e+02  2.29680e+02  1.25136e+02  6.96960e+01\n",
      "   5.12820e+01  3.88080e+01  1.75560e+01  1.80180e+01  8.44800e+00\n",
      "   4.35600e+01  7.12800e+00  3.80160e+00  1.34640e+00  4.35600e+00\n",
      "  -3.76200e-01  2.37600e+00]\n",
      " [ 1.15200e+04  6.17760e+03  3.24720e+03  1.72368e+03  1.15200e+03\n",
      "   7.14240e+02  5.32800e+02  3.02400e+02  1.99080e+02  9.67680e+01\n",
      "   6.39360e+01  5.44320e+01  2.87280e+01  1.31040e+01  8.06400e+00\n",
      "   7.12800e+00  5.18400e+01  5.18400e+00  4.89600e-01  1.08000e+00\n",
      "   1.36800e+00  0.00000e+00]\n",
      " [ 4.41600e+03  2.95680e+03  1.32000e+03  8.46720e+02  4.99200e+02\n",
      "   3.99360e+02  2.68800e+02  1.15200e+02  7.96320e+01  3.45600e+01\n",
      "   4.44000e+01  3.62880e+01  2.00640e+01  1.18560e+01  7.29600e+00\n",
      "   3.80160e+00  5.18400e+00  2.30400e+01  1.30560e+00  1.72800e+00\n",
      "   4.56000e-01  1.44000e-01]\n",
      " [ 1.08800e+03  5.23600e+02  4.11400e+02  2.57040e+02  1.22400e+02\n",
      "   1.08800e+02  2.72000e+01  2.44800e+01  3.49180e+01  4.89600e+00\n",
      "  -1.25800e+00  9.52000e+00  5.81400e+00  0.00000e+00  2.44800e+00\n",
      "   1.34640e+00  4.89600e-01  1.30560e+00  1.15600e+01  0.00000e+00\n",
      "   6.46000e-02  4.08000e-01]\n",
      " [ 3.12000e+03  1.78200e+03  7.92000e+02  5.10300e+02  3.00000e+02\n",
      "   2.59200e+02  1.50000e+02  8.28000e+01  4.26600e+01  4.17600e+01\n",
      "   2.44200e+01  2.01600e+01  1.48200e+01  6.63000e+00  3.12000e+00\n",
      "   4.35600e+00  1.08000e+00  1.72800e+00  0.00000e+00  9.00000e+00\n",
      "   8.55000e-01  7.20000e-01]\n",
      " [ 1.06400e+03  5.85200e+02  4.18000e+02  1.91520e+02  7.60000e+01\n",
      "   9.12000e+01  3.80000e+01  2.96400e+01  2.70180e+01  1.09440e+01\n",
      "   8.43600e+00  4.78800e+00  4.33200e+00  0.00000e+00  6.08000e-01\n",
      "  -3.76200e-01  1.36800e+00  4.56000e-01  6.46000e-02  8.55000e-01\n",
      "   3.61000e+00  0.00000e+00]\n",
      " [ 1.32000e+03  5.94000e+02  3.30000e+02  2.26800e+02  1.32000e+02\n",
      "   1.24800e+02  7.80000e+01  5.04000e+01  9.48000e+00  2.30400e+01\n",
      "   5.55000e+00 -2.52000e+00  4.56000e+00  1.95000e+00  9.60000e-01\n",
      "   2.37600e+00  0.00000e+00  1.44000e-01  4.08000e-01  7.20000e-01\n",
      "   0.00000e+00  9.00000e+00]]\n"
     ]
    }
   ],
   "source": [
    "#######Initialising matrix########\n",
    "\n",
    "corr_mat=np.loadtxt('./correlation_MONOJ.dat',usecols=range(22))\n",
    "corr_mat=np.flipud(corr_mat)\n",
    "\n",
    "\n",
    "#########Getting covariance matirx from correlation matrix############\n",
    "\n",
    "std_dev_mat=np.diag(bkg_err)\n",
    "\n",
    "covar_mat_temp=np.matmul(std_dev_mat,corr_mat)\n",
    "covar_mat=np.matmul(covar_mat_temp,std_dev_mat)\n",
    "print(covar_mat)\n",
    "\n",
    "covar_mat=Matrix(covar_mat)\n",
    "covar_mat_inv=covar_mat**(-1)"
   ]
  },
  {
   "cell_type": "code",
   "execution_count": 93,
   "metadata": {},
   "outputs": [
    {
     "data": {
      "text/latex": [
       "$\\displaystyle \\left[\\begin{array}{cccccccccccccccccccccc}16000000.0 & 8184000.0 & 4048000.0 & 2192400.0 & 1312000.0 & 1075200.0 & 608000.0 & 355200.0 & 211720.0 & 117120.0 & 81400.0 & 69440.0 & 36480.0 & 20800.0 & 12160.0 & 7656.0 & 11520.0 & 4416.0 & 1088.0 & 3120.0 & 1064.0 & 1320.0\\\\8184000.0 & 4840000.0 & 2226400.0 & 1164240.0 & 712800.0 & 598400.0 & 321200.0 & 187440.0 & 114708.0 & 60192.0 & 46398.0 & 39424.0 & 19228.0 & 10868.0 & 6512.0 & 3920.4 & 6177.6 & 2956.8 & 523.6 & 1782.0 & 585.2 & 594.0\\\\4048000.0 & 2226400.0 & 1210000.0 & 582120.0 & 365200.0 & 292160.0 & 162800.0 & 93720.0 & 58223.0 & 31152.0 & 21571.0 & 18172.0 & 9196.0 & 4862.0 & 3344.0 & 1815.0 & 3247.2 & 1320.0 & 411.4 & 792.0 & 418.0 & 330.0\\\\2192400.0 & 1164240.0 & 582120.0 & 396900.0 & 194040.0 & 153216.0 & 89460.0 & 54432.0 & 29862.0 & 17539.2 & 12354.3 & 10054.8 & 5625.9 & 3112.2 & 1814.4 & 1247.4 & 1723.68 & 846.72 & 257.04 & 510.3 & 191.52 & 226.8\\\\1312000.0 & 712800.0 & 365200.0 & 194040.0 & 160000.0 & 98560.0 & 55200.0 & 33120.0 & 19276.0 & 10752.0 & 8288.0 & 6384.0 & 2964.0 & 1664.0 & 1312.0 & 739.2 & 1152.0 & 499.2 & 122.4 & 300.0 & 76.0 & 132.0\\\\1075200.0 & 598400.0 & 292160.0 & 153216.0 & 98560.0 & 102400.0 & 44160.0 & 26880.0 & 15420.8 & 8448.0 & 6512.0 & 5107.2 & 2614.4 & 1539.2 & 1024.0 & 570.24 & 714.24 & 399.36 & 108.8 & 259.2 & 91.2 & 124.8\\\\608000.0 & 321200.0 & 162800.0 & 89460.0 & 55200.0 & 44160.0 & 40000.0 & 15600.0 & 9638.0 & 4992.0 & 4070.0 & 2688.0 & 1596.0 & 858.0 & 592.0 & 369.6 & 532.8 & 268.8 & 27.2 & 150.0 & 38.0 & 78.0\\\\355200.0 & 187440.0 & 93720.0 & 54432.0 & 33120.0 & 26880.0 & 15600.0 & 14400.0 & 5593.2 & 3225.6 & 2442.0 & 1747.2 & 957.6 & 561.6 & 374.4 & 229.68 & 302.4 & 115.2 & 24.48 & 82.8 & 29.64 & 50.4\\\\211720.0 & 114708.0 & 58223.0 & 29862.0 & 19276.0 & 15420.8 & 9638.0 & 5593.2 & 6241.0 & 1820.16 & 1490.73 & 1150.24 & 690.46 & 318.37 & 246.48 & 125.136 & 199.08 & 79.632 & 34.918 & 42.66 & 27.018 & 9.48\\\\117120.0 & 60192.0 & 31152.0 & 17539.2 & 10752.0 & 8448.0 & 4992.0 & 3225.6 & 1820.16 & 2304.0 & 657.12 & 564.48 & 364.8 & 180.96 & 126.72 & 69.696 & 96.768 & 34.56 & 4.896 & 41.76 & 10.944 & 23.04\\\\81400.0 & 46398.0 & 21571.0 & 12354.3 & 8288.0 & 6512.0 & 4070.0 & 2442.0 & 1490.73 & 657.12 & 1369.0 & 476.56 & 288.23 & 91.39 & 74.0 & 51.282 & 63.936 & 44.4 & -1.258 & 24.42 & 8.436 & 5.55\\\\69440.0 & 39424.0 & 18172.0 & 10054.8 & 6384.0 & 5107.2 & 2688.0 & 1747.2 & 1150.24 & 564.48 & 476.56 & 784.0 & 234.08 & 127.4 & 71.68 & 38.808 & 54.432 & 36.288 & 9.52 & 20.16 & 4.788 & -2.52\\\\36480.0 & 19228.0 & 9196.0 & 5625.9 & 2964.0 & 2614.4 & 1596.0 & 957.6 & 690.46 & 364.8 & 288.23 & 234.08 & 361.0 & 56.81 & 34.96 & 17.556 & 28.728 & 20.064 & 5.814 & 14.82 & 4.332 & 4.56\\\\20800.0 & 10868.0 & 4862.0 & 3112.2 & 1664.0 & 1539.2 & 858.0 & 561.6 & 318.37 & 180.96 & 91.39 & 127.4 & 56.81 & 169.0 & 14.56 & 18.018 & 13.104 & 11.856 & 0 & 6.63 & 0 & 1.95\\\\12160.0 & 6512.0 & 3344.0 & 1814.4 & 1312.0 & 1024.0 & 592.0 & 374.4 & 246.48 & 126.72 & 74.0 & 71.68 & 34.96 & 14.56 & 64.0 & 8.448 & 8.064 & 7.296 & 2.448 & 3.12 & 0.608 & 0.96\\\\7656.0 & 3920.4 & 1815.0 & 1247.4 & 739.2 & 570.24 & 369.6 & 229.68 & 125.136 & 69.696 & 51.282 & 38.808 & 17.556 & 18.018 & 8.448 & 43.56 & 7.128 & 3.8016 & 1.3464 & 4.356 & -0.3762 & 2.376\\\\11520.0 & 6177.6 & 3247.2 & 1723.68 & 1152.0 & 714.24 & 532.8 & 302.4 & 199.08 & 96.768 & 63.936 & 54.432 & 28.728 & 13.104 & 8.064 & 7.128 & 51.84 & 5.184 & 0.4896 & 1.08 & 1.368 & 0\\\\4416.0 & 2956.8 & 1320.0 & 846.72 & 499.2 & 399.36 & 268.8 & 115.2 & 79.632 & 34.56 & 44.4 & 36.288 & 20.064 & 11.856 & 7.296 & 3.8016 & 5.184 & 23.04 & 1.3056 & 1.728 & 0.456 & 0.144\\\\1088.0 & 523.6 & 411.4 & 257.04 & 122.4 & 108.8 & 27.2 & 24.48 & 34.918 & 4.896 & -1.258 & 9.52 & 5.814 & 0 & 2.448 & 1.3464 & 0.4896 & 1.3056 & 11.56 & 0 & 0.0646 & 0.408\\\\3120.0 & 1782.0 & 792.0 & 510.3 & 300.0 & 259.2 & 150.0 & 82.8 & 42.66 & 41.76 & 24.42 & 20.16 & 14.82 & 6.63 & 3.12 & 4.356 & 1.08 & 1.728 & 0 & 9.0 & 0.855 & 0.72\\\\1064.0 & 585.2 & 418.0 & 191.52 & 76.0 & 91.2 & 38.0 & 29.64 & 27.018 & 10.944 & 8.436 & 4.788 & 4.332 & 0 & 0.608 & -0.3762 & 1.368 & 0.456 & 0.0646 & 0.855 & 3.61 & 0\\\\1320.0 & 594.0 & 330.0 & 226.8 & 132.0 & 124.8 & 78.0 & 50.4 & 9.48 & 23.04 & 5.55 & -2.52 & 4.56 & 1.95 & 0.96 & 2.376 & 0 & 0.144 & 0.408 & 0.72 & 0 & 9.0\\end{array}\\right]$"
      ],
      "text/plain": [
       "Matrix([\n",
       "[16000000.0, 8184000.0, 4048000.0, 2192400.0, 1312000.0, 1075200.0, 608000.0, 355200.0, 211720.0, 117120.0, 81400.0, 69440.0, 36480.0, 20800.0, 12160.0,  7656.0, 11520.0, 4416.0, 1088.0, 3120.0,  1064.0, 1320.0],\n",
       "[ 8184000.0, 4840000.0, 2226400.0, 1164240.0,  712800.0,  598400.0, 321200.0, 187440.0, 114708.0,  60192.0, 46398.0, 39424.0, 19228.0, 10868.0,  6512.0,  3920.4,  6177.6, 2956.8,  523.6, 1782.0,   585.2,  594.0],\n",
       "[ 4048000.0, 2226400.0, 1210000.0,  582120.0,  365200.0,  292160.0, 162800.0,  93720.0,  58223.0,  31152.0, 21571.0, 18172.0,  9196.0,  4862.0,  3344.0,  1815.0,  3247.2, 1320.0,  411.4,  792.0,   418.0,  330.0],\n",
       "[ 2192400.0, 1164240.0,  582120.0,  396900.0,  194040.0,  153216.0,  89460.0,  54432.0,  29862.0,  17539.2, 12354.3, 10054.8,  5625.9,  3112.2,  1814.4,  1247.4, 1723.68, 846.72, 257.04,  510.3,  191.52,  226.8],\n",
       "[ 1312000.0,  712800.0,  365200.0,  194040.0,  160000.0,   98560.0,  55200.0,  33120.0,  19276.0,  10752.0,  8288.0,  6384.0,  2964.0,  1664.0,  1312.0,   739.2,  1152.0,  499.2,  122.4,  300.0,    76.0,  132.0],\n",
       "[ 1075200.0,  598400.0,  292160.0,  153216.0,   98560.0,  102400.0,  44160.0,  26880.0,  15420.8,   8448.0,  6512.0,  5107.2,  2614.4,  1539.2,  1024.0,  570.24,  714.24, 399.36,  108.8,  259.2,    91.2,  124.8],\n",
       "[  608000.0,  321200.0,  162800.0,   89460.0,   55200.0,   44160.0,  40000.0,  15600.0,   9638.0,   4992.0,  4070.0,  2688.0,  1596.0,   858.0,   592.0,   369.6,   532.8,  268.8,   27.2,  150.0,    38.0,   78.0],\n",
       "[  355200.0,  187440.0,   93720.0,   54432.0,   33120.0,   26880.0,  15600.0,  14400.0,   5593.2,   3225.6,  2442.0,  1747.2,   957.6,   561.6,   374.4,  229.68,   302.4,  115.2,  24.48,   82.8,   29.64,   50.4],\n",
       "[  211720.0,  114708.0,   58223.0,   29862.0,   19276.0,   15420.8,   9638.0,   5593.2,   6241.0,  1820.16, 1490.73, 1150.24,  690.46,  318.37,  246.48, 125.136,  199.08, 79.632, 34.918,  42.66,  27.018,   9.48],\n",
       "[  117120.0,   60192.0,   31152.0,   17539.2,   10752.0,    8448.0,   4992.0,   3225.6,  1820.16,   2304.0,  657.12,  564.48,   364.8,  180.96,  126.72,  69.696,  96.768,  34.56,  4.896,  41.76,  10.944,  23.04],\n",
       "[   81400.0,   46398.0,   21571.0,   12354.3,    8288.0,    6512.0,   4070.0,   2442.0,  1490.73,   657.12,  1369.0,  476.56,  288.23,   91.39,    74.0,  51.282,  63.936,   44.4, -1.258,  24.42,   8.436,   5.55],\n",
       "[   69440.0,   39424.0,   18172.0,   10054.8,    6384.0,    5107.2,   2688.0,   1747.2,  1150.24,   564.48,  476.56,   784.0,  234.08,   127.4,   71.68,  38.808,  54.432, 36.288,   9.52,  20.16,   4.788,  -2.52],\n",
       "[   36480.0,   19228.0,    9196.0,    5625.9,    2964.0,    2614.4,   1596.0,    957.6,   690.46,    364.8,  288.23,  234.08,   361.0,   56.81,   34.96,  17.556,  28.728, 20.064,  5.814,  14.82,   4.332,   4.56],\n",
       "[   20800.0,   10868.0,    4862.0,    3112.2,    1664.0,    1539.2,    858.0,    561.6,   318.37,   180.96,   91.39,   127.4,   56.81,   169.0,   14.56,  18.018,  13.104, 11.856,      0,   6.63,       0,   1.95],\n",
       "[   12160.0,    6512.0,    3344.0,    1814.4,    1312.0,    1024.0,    592.0,    374.4,   246.48,   126.72,    74.0,   71.68,   34.96,   14.56,    64.0,   8.448,   8.064,  7.296,  2.448,   3.12,   0.608,   0.96],\n",
       "[    7656.0,    3920.4,    1815.0,    1247.4,     739.2,    570.24,    369.6,   229.68,  125.136,   69.696,  51.282,  38.808,  17.556,  18.018,   8.448,   43.56,   7.128, 3.8016, 1.3464,  4.356, -0.3762,  2.376],\n",
       "[   11520.0,    6177.6,    3247.2,   1723.68,    1152.0,    714.24,    532.8,    302.4,   199.08,   96.768,  63.936,  54.432,  28.728,  13.104,   8.064,   7.128,   51.84,  5.184, 0.4896,   1.08,   1.368,      0],\n",
       "[    4416.0,    2956.8,    1320.0,    846.72,     499.2,    399.36,    268.8,    115.2,   79.632,    34.56,    44.4,  36.288,  20.064,  11.856,   7.296,  3.8016,   5.184,  23.04, 1.3056,  1.728,   0.456,  0.144],\n",
       "[    1088.0,     523.6,     411.4,    257.04,     122.4,     108.8,     27.2,    24.48,   34.918,    4.896,  -1.258,    9.52,   5.814,       0,   2.448,  1.3464,  0.4896, 1.3056,  11.56,      0,  0.0646,  0.408],\n",
       "[    3120.0,    1782.0,     792.0,     510.3,     300.0,     259.2,    150.0,     82.8,    42.66,    41.76,   24.42,   20.16,   14.82,    6.63,    3.12,   4.356,    1.08,  1.728,      0,    9.0,   0.855,   0.72],\n",
       "[    1064.0,     585.2,     418.0,    191.52,      76.0,      91.2,     38.0,    29.64,   27.018,   10.944,   8.436,   4.788,   4.332,       0,   0.608, -0.3762,   1.368,  0.456, 0.0646,  0.855,    3.61,      0],\n",
       "[    1320.0,     594.0,     330.0,     226.8,     132.0,     124.8,     78.0,     50.4,     9.48,    23.04,    5.55,   -2.52,    4.56,    1.95,    0.96,   2.376,       0,  0.144,  0.408,   0.72,       0,    9.0]])"
      ]
     },
     "execution_count": 93,
     "metadata": {},
     "output_type": "execute_result"
    }
   ],
   "source": [
    "covar_mat"
   ]
  },
  {
   "cell_type": "code",
   "execution_count": 94,
   "metadata": {},
   "outputs": [
    {
     "data": {
      "text/plain": [
       "array([[4.0e+03, 0.0e+00, 0.0e+00, 0.0e+00, 0.0e+00, 0.0e+00, 0.0e+00,\n",
       "        0.0e+00, 0.0e+00, 0.0e+00, 0.0e+00, 0.0e+00, 0.0e+00, 0.0e+00,\n",
       "        0.0e+00, 0.0e+00, 0.0e+00, 0.0e+00, 0.0e+00, 0.0e+00, 0.0e+00,\n",
       "        0.0e+00],\n",
       "       [0.0e+00, 2.2e+03, 0.0e+00, 0.0e+00, 0.0e+00, 0.0e+00, 0.0e+00,\n",
       "        0.0e+00, 0.0e+00, 0.0e+00, 0.0e+00, 0.0e+00, 0.0e+00, 0.0e+00,\n",
       "        0.0e+00, 0.0e+00, 0.0e+00, 0.0e+00, 0.0e+00, 0.0e+00, 0.0e+00,\n",
       "        0.0e+00],\n",
       "       [0.0e+00, 0.0e+00, 1.1e+03, 0.0e+00, 0.0e+00, 0.0e+00, 0.0e+00,\n",
       "        0.0e+00, 0.0e+00, 0.0e+00, 0.0e+00, 0.0e+00, 0.0e+00, 0.0e+00,\n",
       "        0.0e+00, 0.0e+00, 0.0e+00, 0.0e+00, 0.0e+00, 0.0e+00, 0.0e+00,\n",
       "        0.0e+00],\n",
       "       [0.0e+00, 0.0e+00, 0.0e+00, 6.3e+02, 0.0e+00, 0.0e+00, 0.0e+00,\n",
       "        0.0e+00, 0.0e+00, 0.0e+00, 0.0e+00, 0.0e+00, 0.0e+00, 0.0e+00,\n",
       "        0.0e+00, 0.0e+00, 0.0e+00, 0.0e+00, 0.0e+00, 0.0e+00, 0.0e+00,\n",
       "        0.0e+00],\n",
       "       [0.0e+00, 0.0e+00, 0.0e+00, 0.0e+00, 4.0e+02, 0.0e+00, 0.0e+00,\n",
       "        0.0e+00, 0.0e+00, 0.0e+00, 0.0e+00, 0.0e+00, 0.0e+00, 0.0e+00,\n",
       "        0.0e+00, 0.0e+00, 0.0e+00, 0.0e+00, 0.0e+00, 0.0e+00, 0.0e+00,\n",
       "        0.0e+00],\n",
       "       [0.0e+00, 0.0e+00, 0.0e+00, 0.0e+00, 0.0e+00, 3.2e+02, 0.0e+00,\n",
       "        0.0e+00, 0.0e+00, 0.0e+00, 0.0e+00, 0.0e+00, 0.0e+00, 0.0e+00,\n",
       "        0.0e+00, 0.0e+00, 0.0e+00, 0.0e+00, 0.0e+00, 0.0e+00, 0.0e+00,\n",
       "        0.0e+00],\n",
       "       [0.0e+00, 0.0e+00, 0.0e+00, 0.0e+00, 0.0e+00, 0.0e+00, 2.0e+02,\n",
       "        0.0e+00, 0.0e+00, 0.0e+00, 0.0e+00, 0.0e+00, 0.0e+00, 0.0e+00,\n",
       "        0.0e+00, 0.0e+00, 0.0e+00, 0.0e+00, 0.0e+00, 0.0e+00, 0.0e+00,\n",
       "        0.0e+00],\n",
       "       [0.0e+00, 0.0e+00, 0.0e+00, 0.0e+00, 0.0e+00, 0.0e+00, 0.0e+00,\n",
       "        1.2e+02, 0.0e+00, 0.0e+00, 0.0e+00, 0.0e+00, 0.0e+00, 0.0e+00,\n",
       "        0.0e+00, 0.0e+00, 0.0e+00, 0.0e+00, 0.0e+00, 0.0e+00, 0.0e+00,\n",
       "        0.0e+00],\n",
       "       [0.0e+00, 0.0e+00, 0.0e+00, 0.0e+00, 0.0e+00, 0.0e+00, 0.0e+00,\n",
       "        0.0e+00, 7.9e+01, 0.0e+00, 0.0e+00, 0.0e+00, 0.0e+00, 0.0e+00,\n",
       "        0.0e+00, 0.0e+00, 0.0e+00, 0.0e+00, 0.0e+00, 0.0e+00, 0.0e+00,\n",
       "        0.0e+00],\n",
       "       [0.0e+00, 0.0e+00, 0.0e+00, 0.0e+00, 0.0e+00, 0.0e+00, 0.0e+00,\n",
       "        0.0e+00, 0.0e+00, 4.8e+01, 0.0e+00, 0.0e+00, 0.0e+00, 0.0e+00,\n",
       "        0.0e+00, 0.0e+00, 0.0e+00, 0.0e+00, 0.0e+00, 0.0e+00, 0.0e+00,\n",
       "        0.0e+00],\n",
       "       [0.0e+00, 0.0e+00, 0.0e+00, 0.0e+00, 0.0e+00, 0.0e+00, 0.0e+00,\n",
       "        0.0e+00, 0.0e+00, 0.0e+00, 3.7e+01, 0.0e+00, 0.0e+00, 0.0e+00,\n",
       "        0.0e+00, 0.0e+00, 0.0e+00, 0.0e+00, 0.0e+00, 0.0e+00, 0.0e+00,\n",
       "        0.0e+00],\n",
       "       [0.0e+00, 0.0e+00, 0.0e+00, 0.0e+00, 0.0e+00, 0.0e+00, 0.0e+00,\n",
       "        0.0e+00, 0.0e+00, 0.0e+00, 0.0e+00, 2.8e+01, 0.0e+00, 0.0e+00,\n",
       "        0.0e+00, 0.0e+00, 0.0e+00, 0.0e+00, 0.0e+00, 0.0e+00, 0.0e+00,\n",
       "        0.0e+00],\n",
       "       [0.0e+00, 0.0e+00, 0.0e+00, 0.0e+00, 0.0e+00, 0.0e+00, 0.0e+00,\n",
       "        0.0e+00, 0.0e+00, 0.0e+00, 0.0e+00, 0.0e+00, 1.9e+01, 0.0e+00,\n",
       "        0.0e+00, 0.0e+00, 0.0e+00, 0.0e+00, 0.0e+00, 0.0e+00, 0.0e+00,\n",
       "        0.0e+00],\n",
       "       [0.0e+00, 0.0e+00, 0.0e+00, 0.0e+00, 0.0e+00, 0.0e+00, 0.0e+00,\n",
       "        0.0e+00, 0.0e+00, 0.0e+00, 0.0e+00, 0.0e+00, 0.0e+00, 1.3e+01,\n",
       "        0.0e+00, 0.0e+00, 0.0e+00, 0.0e+00, 0.0e+00, 0.0e+00, 0.0e+00,\n",
       "        0.0e+00],\n",
       "       [0.0e+00, 0.0e+00, 0.0e+00, 0.0e+00, 0.0e+00, 0.0e+00, 0.0e+00,\n",
       "        0.0e+00, 0.0e+00, 0.0e+00, 0.0e+00, 0.0e+00, 0.0e+00, 0.0e+00,\n",
       "        8.0e+00, 0.0e+00, 0.0e+00, 0.0e+00, 0.0e+00, 0.0e+00, 0.0e+00,\n",
       "        0.0e+00],\n",
       "       [0.0e+00, 0.0e+00, 0.0e+00, 0.0e+00, 0.0e+00, 0.0e+00, 0.0e+00,\n",
       "        0.0e+00, 0.0e+00, 0.0e+00, 0.0e+00, 0.0e+00, 0.0e+00, 0.0e+00,\n",
       "        0.0e+00, 6.6e+00, 0.0e+00, 0.0e+00, 0.0e+00, 0.0e+00, 0.0e+00,\n",
       "        0.0e+00],\n",
       "       [0.0e+00, 0.0e+00, 0.0e+00, 0.0e+00, 0.0e+00, 0.0e+00, 0.0e+00,\n",
       "        0.0e+00, 0.0e+00, 0.0e+00, 0.0e+00, 0.0e+00, 0.0e+00, 0.0e+00,\n",
       "        0.0e+00, 0.0e+00, 7.2e+00, 0.0e+00, 0.0e+00, 0.0e+00, 0.0e+00,\n",
       "        0.0e+00],\n",
       "       [0.0e+00, 0.0e+00, 0.0e+00, 0.0e+00, 0.0e+00, 0.0e+00, 0.0e+00,\n",
       "        0.0e+00, 0.0e+00, 0.0e+00, 0.0e+00, 0.0e+00, 0.0e+00, 0.0e+00,\n",
       "        0.0e+00, 0.0e+00, 0.0e+00, 4.8e+00, 0.0e+00, 0.0e+00, 0.0e+00,\n",
       "        0.0e+00],\n",
       "       [0.0e+00, 0.0e+00, 0.0e+00, 0.0e+00, 0.0e+00, 0.0e+00, 0.0e+00,\n",
       "        0.0e+00, 0.0e+00, 0.0e+00, 0.0e+00, 0.0e+00, 0.0e+00, 0.0e+00,\n",
       "        0.0e+00, 0.0e+00, 0.0e+00, 0.0e+00, 3.4e+00, 0.0e+00, 0.0e+00,\n",
       "        0.0e+00],\n",
       "       [0.0e+00, 0.0e+00, 0.0e+00, 0.0e+00, 0.0e+00, 0.0e+00, 0.0e+00,\n",
       "        0.0e+00, 0.0e+00, 0.0e+00, 0.0e+00, 0.0e+00, 0.0e+00, 0.0e+00,\n",
       "        0.0e+00, 0.0e+00, 0.0e+00, 0.0e+00, 0.0e+00, 3.0e+00, 0.0e+00,\n",
       "        0.0e+00],\n",
       "       [0.0e+00, 0.0e+00, 0.0e+00, 0.0e+00, 0.0e+00, 0.0e+00, 0.0e+00,\n",
       "        0.0e+00, 0.0e+00, 0.0e+00, 0.0e+00, 0.0e+00, 0.0e+00, 0.0e+00,\n",
       "        0.0e+00, 0.0e+00, 0.0e+00, 0.0e+00, 0.0e+00, 0.0e+00, 1.9e+00,\n",
       "        0.0e+00],\n",
       "       [0.0e+00, 0.0e+00, 0.0e+00, 0.0e+00, 0.0e+00, 0.0e+00, 0.0e+00,\n",
       "        0.0e+00, 0.0e+00, 0.0e+00, 0.0e+00, 0.0e+00, 0.0e+00, 0.0e+00,\n",
       "        0.0e+00, 0.0e+00, 0.0e+00, 0.0e+00, 0.0e+00, 0.0e+00, 0.0e+00,\n",
       "        3.0e+00]])"
      ]
     },
     "execution_count": 94,
     "metadata": {},
     "output_type": "execute_result"
    }
   ],
   "source": [
    "std_dev_mat"
   ]
  },
  {
   "cell_type": "code",
   "execution_count": 95,
   "metadata": {},
   "outputs": [],
   "source": [
    "#generating F[\\theta]\n",
    "uu=symbols('\\mu')\n",
    "kk=Matrix(uu*signal+bkg)+theta\n",
    "kk=diag(kk[0],kk[1],kk[2],kk[3],kk[4],kk[5],kk[6],kk[7],kk[8],kk[9],kk[10],kk[11],kk[12],kk[13],kk[14],kk[15],kk[16],kk[17],kk[18],kk[19],kk[20],kk[21])"
   ]
  },
  {
   "cell_type": "code",
   "execution_count": 96,
   "metadata": {},
   "outputs": [],
   "source": [
    "# F[\\theta]\n",
    "F_theta=kk*(covar_mat_inv*theta+Matrix([1,1,1,1,1,1,1,1,1,1,1,1,1,1,1,1,1,1,1,1,1,1]))-Matrix(events)"
   ]
  },
  {
   "cell_type": "code",
   "execution_count": 97,
   "metadata": {},
   "outputs": [],
   "source": [
    "#Jacobian for F[\\theta]\n",
    "JF_theta=F_theta.jacobian(theta)"
   ]
  },
  {
   "cell_type": "code",
   "execution_count": 98,
   "metadata": {},
   "outputs": [],
   "source": [
    "# initial guess for solution\n",
    "guess=Matrix([0,0,0,0,0,0,0,0,0,0,0,0,0,0,0,0,0,0,0,0,0,0])"
   ]
  },
  {
   "cell_type": "code",
   "execution_count": null,
   "metadata": {},
   "outputs": [],
   "source": [
    "with open('thetas.dat','w') as wf:\n",
    "    for jj in range(231):\n",
    "        ll=jj*0.01\n",
    "        for ii in range(10):\n",
    "            nn=(JF_theta.subs({uu:-0.4+ll,a:guess[0],b:guess[1],c:guess[2],d:guess[3],e:guess[4],f:guess[5],g:guess[6],h:guess[7],i:guess[8],j:guess[9],k:guess[10],l:guess[11],m:guess[12],n:guess[13],o:guess[14],p:guess[15],q:guess[16],r:guess[17],s:guess[18],t:guess[19],u:guess[20],v:guess[21]})**-1)*(F_theta.subs({uu:-0.4+ll,a:guess[0],b:guess[1],c:guess[2],d:guess[3],e:guess[4],f:guess[5],g:guess[6],h:guess[7],i:guess[8],j:guess[9],k:guess[10],l:guess[11],m:guess[12],n:guess[13],o:guess[14],p:guess[15],q:guess[16],r:guess[17],s:guess[18],t:guess[19],u:guess[20],v:guess[21]}))\n",
    "            guess=guess-nn\n",
    "        wf.write('%2.4f  %3.4f  %3.4f  %3.4f  %3.4f  %3.4f  %3.4f  %3.4f  %3.4f  %3.4f  %3.4f  %3.4f  %3.4f  %3.4f  %3.4f  %3.4f  %3.4f  %3.4f  %3.4f  %3.4f  %3.4f  %3.4f  %3.4f  \\n'%(-0.4+ll,guess[0],guess[1],guess[2],guess[3],guess[4],guess[5],guess[6],guess[7],guess[8],guess[9],guess[10],guess[11],guess[12],guess[13],guess[14],guess[15],guess[16],guess[17],guess[18],guess[19],guess[20],guess[21]))\n",
    "        guess=Matrix([0,0,0,0,0,0,0,0,0,0,0,0,0,0,0,0,0,0,0,0,0,0])"
   ]
  },
  {
   "cell_type": "code",
   "execution_count": 99,
   "metadata": {},
   "outputs": [],
   "source": [
    "theta1=np.loadtxt('thetas.dat', usecols=(1))\n",
    "theta2=np.loadtxt('thetas.dat', usecols=(2))\n",
    "theta3=np.loadtxt('thetas.dat', usecols=(3))\n",
    "theta4=np.loadtxt('thetas.dat', usecols=(4))\n",
    "theta5=np.loadtxt('thetas.dat', usecols=(5))\n",
    "theta6=np.loadtxt('thetas.dat', usecols=(6))\n",
    "theta7=np.loadtxt('thetas.dat', usecols=(7))\n",
    "theta8=np.loadtxt('thetas.dat', usecols=(8))\n",
    "theta9=np.loadtxt('thetas.dat', usecols=(9))\n",
    "theta10=np.loadtxt('thetas.dat', usecols=(10))\n",
    "theta11=np.loadtxt('thetas.dat', usecols=(11))\n",
    "theta12=np.loadtxt('thetas.dat', usecols=(12))\n",
    "theta13=np.loadtxt('thetas.dat', usecols=(13))\n",
    "theta14=np.loadtxt('thetas.dat', usecols=(14))\n",
    "theta15=np.loadtxt('thetas.dat', usecols=(15))\n",
    "theta16=np.loadtxt('thetas.dat', usecols=(16))\n",
    "theta17=np.loadtxt('thetas.dat', usecols=(17))\n",
    "theta18=np.loadtxt('thetas.dat', usecols=(18))\n",
    "theta19=np.loadtxt('thetas.dat', usecols=(19))\n",
    "theta20=np.loadtxt('thetas.dat', usecols=(20))\n",
    "theta21=np.loadtxt('thetas.dat', usecols=(21))\n",
    "theta22=np.loadtxt('thetas.dat', usecols=(22))\n",
    "thetass=[theta1,theta2,theta3,theta4,theta5,theta6,theta7,theta8,theta9,theta10,theta11,theta12,theta13,theta14,theta15,theta16,theta17,theta18,theta19,theta20,theta21,theta22]"
   ]
  },
  {
   "cell_type": "code",
   "execution_count": 100,
   "metadata": {},
   "outputs": [
    {
     "name": "stderr",
     "output_type": "stream",
     "text": [
      "100%|██████████| 450/450 [06:00<00:00,  1.25it/s]\n"
     ]
    }
   ],
   "source": [
    "#generating log likelihood file\n",
    "with open('llh_full.dat','w') as wf:\n",
    "    for ii in tqdm(range(450)):\n",
    "        mm=ii*0.01\n",
    "        oo=theta.subs({a:theta1[ii],b:theta2[ii],c:theta3[ii],d:theta4[ii],e:theta5[ii],f:theta6[ii],g:theta7[ii],h:theta8[ii],i:theta9[ii],j:theta10[ii],k:theta11[ii],l:theta12[ii],m:theta13[ii],n:theta14[ii],o:theta15[ii],p:theta16[ii],q:theta17[ii],r:theta18[ii],s:theta19[ii],t:theta20[ii],u:theta21[ii],v:theta22[ii]})\n",
    "        pp=(1/2)*oo.T*covar_mat_inv*oo\n",
    "        sum1=0\n",
    "        \n",
    "        for jj in range (22):\n",
    "            qq=(-3.0+mm)*signal[jj]+bkg[jj]+thetass[jj][ii]\n",
    "            \n",
    "            \n",
    "            rr=events[jj]*math.log(qq)-qq-math.log(math.factorial(event[jj]))\n",
    "            \n",
    "            sum1=sum1+rr\n",
    "        zz=Matrix([sum1])-pp\n",
    "        wf.write('%1.2f  %8.4f  \\n'%(-3.0+mm,zz[0]))\n",
    "             "
   ]
  },
  {
   "cell_type": "code",
   "execution_count": 102,
   "metadata": {},
   "outputs": [
    {
     "data": {
      "image/png": "[encoded data removed]",
      "text/plain": [
       "<matplotlib.figure.Figure at 0x7fbf7a471358>"
      ]
     },
     "metadata": {
      "needs_background": "light"
     },
     "output_type": "display_data"
    }
   ],
   "source": [
    "######plotting likelihood###########\n",
    "x=np.loadtxt('llh_full.dat', usecols=0)\n",
    "y=np.loadtxt('llh_full.dat', usecols=1)\n",
    "plt.plot(x,y)\n",
    "plt.plot(-0.93,-103.6954  , 'ro')\n",
    "plt.show()"
   ]
  },
  {
   "cell_type": "code",
   "execution_count": 103,
   "metadata": {},
   "outputs": [],
   "source": [
    "llh_full=-103.6954\n",
    "llh1=np.loadtxt('llh_full.dat', usecols=1)\n",
    "\n",
    "# q_u=np.log(temp)*(-2)\n",
    "q_u=(llh1-llh_full)*(-2)"
   ]
  },
  {
   "cell_type": "code",
   "execution_count": 104,
   "metadata": {},
   "outputs": [],
   "source": [
    "x_given=np.loadtxt('./jet.dat',usecols=0)\n",
    "y_given=np.loadtxt('./jet.dat',usecols=1)"
   ]
  },
  {
   "cell_type": "code",
   "execution_count": 105,
   "metadata": {},
   "outputs": [],
   "source": [
    "%store -r x1\n",
    "%store -r q_u_noco\n",
    "%store -r x_givenn\n",
    "%store -r y_givenn"
   ]
  },
  {
   "cell_type": "code",
   "execution_count": 109,
   "metadata": {},
   "outputs": [
    {
     "data": {
      "image/png": "[encoded data removed]",
      "text/plain": [
       "<matplotlib.figure.Figure at 0x7fbf79ec8470>"
      ]
     },
     "metadata": {
      "needs_background": "light"
     },
     "output_type": "display_data"
    }
   ],
   "source": [
    "plt.plot(x,q_u)\n",
    "plt.plot(x1,q_u_noco)\n",
    "plt.plot(x_given,y_given,'--')\n",
    "plt.plot(x_givenn,y_givenn,'--')\n",
    "\n",
    "plt.legend(['Correlation','No Correlation','Published (correlation)','Published (no correlation)'])\n",
    "plt.axis([-4,3,0,10])\n",
    "plt.xlabel('$\\mu$')\n",
    "plt.ylabel('$q_{\\mu}$')\n",
    "# plt.title(\"correlation case\")\n",
    "\n",
    "plt.savefig('final.png', dpi=400)\n",
    "plt.show()"
   ]
  },
  {
   "cell_type": "code",
   "execution_count": null,
   "metadata": {},
   "outputs": [],
   "source": []
  }
 ],
 "metadata": {
  "interpreter": {
   "hash": "31f2aee4e71d21fbe5cf8b01ff0e069b9275f58929596ceb00d14d90e3e16cd6"
  },
  "kernelspec": {
   "display_name": "Python 3.6.9 64-bit",
   "language": "python",
   "name": "python3"
  },
  "language_info": {
   "codemirror_mode": {
    "name": "ipython",
    "version": 3
   },
   "file_extension": ".py",
   "mimetype": "text/x-python",
   "name": "python",
   "nbconvert_exporter": "python",
   "pygments_lexer": "ipython3",
   "version": "3.6.9"
  },
  "orig_nbformat": 4
 },
 "nbformat": 4,
 "nbformat_minor": 2
}
