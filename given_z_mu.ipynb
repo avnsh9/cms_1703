{
 "cells": [
  {
   "cell_type": "code",
   "execution_count": 1,
   "metadata": {},
   "outputs": [],
   "source": [
    "import numpy as np"
   ]
  },
  {
   "cell_type": "code",
   "execution_count": 2,
   "metadata": {},
   "outputs": [],
   "source": [
    "given=np.loadtxt('z_muon_given.dat',usecols=0)\n",
    "bin=np.loadtxt('z_muon_given.dat',usecols=1)\n",
    "data_given=given*bin"
   ]
  },
  {
   "cell_type": "code",
   "execution_count": 3,
   "metadata": {},
   "outputs": [
    {
     "data": {
      "text/plain": [
       "array([8.286e+03, 4.353e+03, 2.532e+03, 1.524e+03, 9.480e+02, 7.360e+02,\n",
       "       4.560e+02, 2.560e+02, 1.480e+02, 1.000e+02, 6.800e+01, 5.500e+01,\n",
       "       3.300e+01, 1.950e+01, 1.150e+01, 8.500e+00, 6.600e+00, 3.600e+00,\n",
       "       2.400e+00, 1.400e+00, 9.100e-01, 1.680e+00])"
      ]
     },
     "execution_count": 3,
     "metadata": {},
     "output_type": "execute_result"
    }
   ],
   "source": [
    "data_given"
   ]
  },
  {
   "cell_type": "code",
   "execution_count": null,
   "metadata": {},
   "outputs": [],
   "source": []
  }
 ],
 "metadata": {
  "interpreter": {
   "hash": "31f2aee4e71d21fbe5cf8b01ff0e069b9275f58929596ceb00d14d90e3e16cd6"
  },
  "kernelspec": {
   "display_name": "Python 3.6.9 64-bit",
   "language": "python",
   "name": "python3"
  },
  "language_info": {
   "codemirror_mode": {
    "name": "ipython",
    "version": 3
   },
   "file_extension": ".py",
   "mimetype": "text/x-python",
   "name": "python",
   "nbconvert_exporter": "python",
   "pygments_lexer": "ipython3",
   "version": "3.6.9"
  },
  "orig_nbformat": 4
 },
 "nbformat": 4,
 "nbformat_minor": 2
}
