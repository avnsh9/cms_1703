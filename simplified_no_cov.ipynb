{
 "cells": [
  {
   "cell_type": "markdown",
   "metadata": {},
   "source": [
    "# Expression for simplified likelihood"
   ]
  },
  {
   "cell_type": "markdown",
   "metadata": {},
   "source": [
    "\n",
    "$$L_s(\\mu,\\theta)=\\prod_{i=1}^{N}{\\frac{(\\mu\\cdot s_i+b_i+\\theta_i)^{n_i}e^{-(\\mu\\cdot s_i+b_i+\\theta_i)}}{n_i!}}\\cdot exp\\; ( \\;   -\\frac{1}{2}\\theta^TV^{-1}\\theta) $$\n"
   ]
  },
  {
   "cell_type": "markdown",
   "metadata": {},
   "source": [
    "# Log likelihood will be:"
   ]
  },
  {
   "cell_type": "markdown",
   "metadata": {},
   "source": [
    "$$[\\sum_{i=1}^{N}{n_i\\ln(\\mu\\cdot s_i+b_i+\\theta_i) -(\\mu\\cdot s_i+b_i+\\theta_i) - \\ln n_i!}]\\; -\\frac{1}{2} \\theta^TV^{-1}\\theta$$"
   ]
  },
  {
   "cell_type": "markdown",
   "metadata": {},
   "source": [
    "# In case of no-correlation, log likelihood will take the form:"
   ]
  },
  {
   "cell_type": "markdown",
   "metadata": {},
   "source": [
    "$$[\\sum_{i=1}^{N}{n_i\\ln(\\mu\\cdot s_i+b_i+\\theta_i) -(\\mu\\cdot s_i+b_i+\\theta_i) - \\ln n_i!}]\\; -\\frac{1}{2}\\sum_1^N{V^{-1}_{ii}\\theta_i^2}$$"
   ]
  },
  {
   "cell_type": "markdown",
   "metadata": {},
   "source": [
    "# MLE for $\\mu$ :"
   ]
  },
  {
   "cell_type": "markdown",
   "metadata": {},
   "source": [
    "$$\\sum_{i=1}^N{\\frac{n_i\\cdot s_i}{\\hat{\\mu} \\cdot s_i+b_i+\\theta_i}} = \\sum_{i=1}^N{s_i}$$"
   ]
  },
  {
   "cell_type": "markdown",
   "metadata": {},
   "source": [
    "# MLE for $\\theta_i$:"
   ]
  },
  {
   "cell_type": "markdown",
   "metadata": {},
   "source": [
    "$$\\frac{n_i}{\\mu \\cdot s_i+b_i+\\hat{\\theta_i}}=1+V_{ii}^{-1}\\hat{\\theta_i}$$"
   ]
  },
  {
   "cell_type": "markdown",
   "metadata": {},
   "source": [
    "$$\\hat{\\theta_i}=\\frac{-(\\mu \\cdot s_i \\cdot V_{ii}^{-1}+b_i \\cdot V_{ii}^{-1}+1)+\\sqrt{(\\mu \\cdot s_i \\cdot V_{ii}^{-1}+b_i \\cdot V_{ii}^{-1}+1)^2 \\; -4\\cdot V_{ii}^{-1}(\\mu \\cdot s_i+b_i-n_i)}}{2 V_{ii}^{-1}}$$"
   ]
  },
  {
   "cell_type": "markdown",
   "metadata": {},
   "source": [
    "## These are 9 MLE equations, but they can't be solved seperately\n",
    "### So we will use profile likelihood to profile out our $\\mu$ from nuisance parameter $\\theta$"
   ]
  },
  {
   "cell_type": "markdown",
   "metadata": {},
   "source": [
    "## calculating $V^{-1}$:"
   ]
  },
  {
   "cell_type": "code",
   "execution_count": 83,
   "metadata": {},
   "outputs": [],
   "source": [
    "import numpy as np\n",
    "import matplotlib.pyplot as plt\n",
    "import math\n",
    "from tqdm import tqdm"
   ]
  },
  {
   "cell_type": "code",
   "execution_count": 84,
   "metadata": {},
   "outputs": [],
   "source": [
    "signal_temp=np.loadtxt('./signal.dat', usecols=(1))\n",
    "events=np.loadtxt('./data1703.dat', usecols=0,skiprows=1)\n",
    "bkg=np.loadtxt('./data1703.dat', usecols=1,skiprows=1)\n",
    "event=np.loadtxt('./data1703.dat', dtype=int, usecols=0,skiprows=1)\n",
    "bin_size=np.loadtxt('./data1703.dat', usecols=3,skiprows=1)\n",
    "bkg_err=np.loadtxt('./data1703.dat', usecols=4,skiprows=1)\n",
    "signal=np.array([152.898, 110.269, 82.4174,  83.5542 , 61.3867,  64.2287,  48.3136,  31.2618 , 25.5778 , 16.4835\n",
    ", 21.0306 , 14.7783 , 11.3679  ,10.2311 ,  2.84198,  2.27358 , 1.70519 , 3.97877,\n",
    "  0.    ,   2.84198,  1.70519 , 4.54717])"
   ]
  },
  {
   "cell_type": "code",
   "execution_count": 85,
   "metadata": {},
   "outputs": [],
   "source": [
    "#######Initialising matrix########\n",
    "\n",
    "corr_mat=np.loadtxt('./correlation_MONOJ.dat',usecols=range(22))\n",
    "corr_mat=np.flipud(corr_mat)\n",
    "\n",
    "\n",
    "#########Getting covariance matirx from correlation matrix############\n",
    "\n",
    "std_dev_mat=np.diag(bkg_err)\n",
    "\n",
    "covar_mat_temp=np.matmul(std_dev_mat,corr_mat)\n",
    "covar_mat=np.matmul(covar_mat_temp,std_dev_mat)\n",
    "diag_V=np.diag(np.diag(covar_mat))\n",
    "inv_diag_V=np.linalg.inv(diag_V)\n",
    "\n"
   ]
  },
  {
   "cell_type": "code",
   "execution_count": 86,
   "metadata": {},
   "outputs": [],
   "source": [
    "x_givenn=np.loadtxt('./pub_sl_monoj.dat',skiprows=2,usecols=0)\n",
    "y_givenn=np.loadtxt('./pub_sl_monoj.dat',skiprows=2,usecols=1)"
   ]
  },
  {
   "cell_type": "code",
   "execution_count": 87,
   "metadata": {},
   "outputs": [],
   "source": [
    "filename=['theta1.dat','theta2.dat','theta3.dat','theta4.dat','theta5.dat','theta6.dat','theta7.dat','theta8.dat','theta9.dat','theta10.dat','theta11.dat','theta12.dat','theta13.dat','theta14.dat','theta15.dat','theta16.dat','theta17.dat','theta18.dat','theta19.dat','theta20.dat','theta21.dat','theta22.dat']"
   ]
  },
  {
   "cell_type": "code",
   "execution_count": 88,
   "metadata": {},
   "outputs": [
    {
     "name": "stderr",
     "output_type": "stream",
     "text": [
      "100%|██████████| 22/22 [00:00<00:00, 109.76it/s]\n"
     ]
    }
   ],
   "source": [
    "# We will take a lot of \\mu from 0 to 2 with a gap of 0.01\n",
    "# And for each \\mu will calculate MLE of \\theta_i\n",
    "for i in tqdm(range(22)):\n",
    "    u=0\n",
    "    f=open(filename[i],'w')\n",
    "    for j in range(500):\n",
    "        u=-2.0+j*0.01\n",
    "        # For MLE of \\theta we have to solve the quatratic equation\n",
    "        a=inv_diag_V[i,i]\n",
    "        b=u*signal[i]*a+bkg[i]*a+1\n",
    "        c=u*signal[i]+bkg[i]-events[i]\n",
    "        theta=(-b+math.sqrt(math.pow(b,2)-4*a*c))/(2*a)\n",
    "        f.write('%1i    %1.2f   %5.5f  \\n' % (i+1,u,  theta))\n",
    "f.close()\n",
    "        "
   ]
  },
  {
   "cell_type": "code",
   "execution_count": 89,
   "metadata": {},
   "outputs": [],
   "source": [
    "# Now we will calculate different values of log likelihood with varying \\mu and calculated MLE of \\theta for each \\mu\n",
    "theta1=np.loadtxt('theta1.dat', usecols=(2))\n",
    "theta2=np.loadtxt('theta2.dat', usecols=(2))\n",
    "theta3=np.loadtxt('theta3.dat', usecols=(2))\n",
    "theta4=np.loadtxt('theta4.dat', usecols=(2))\n",
    "theta5=np.loadtxt('theta5.dat', usecols=(2))\n",
    "theta6=np.loadtxt('theta6.dat', usecols=(2))\n",
    "theta7=np.loadtxt('theta7.dat', usecols=(2))\n",
    "theta8=np.loadtxt('theta8.dat', usecols=(2))\n",
    "theta9=np.loadtxt('theta9.dat', usecols=(2))\n",
    "theta10=np.loadtxt('theta10.dat', usecols=(2))\n",
    "theta11=np.loadtxt('theta11.dat', usecols=(2))\n",
    "theta12=np.loadtxt('theta12.dat', usecols=(2))\n",
    "theta13=np.loadtxt('theta13.dat', usecols=(2))\n",
    "theta14=np.loadtxt('theta14.dat', usecols=(2))\n",
    "theta15=np.loadtxt('theta15.dat', usecols=(2))\n",
    "theta16=np.loadtxt('theta16.dat', usecols=(2))\n",
    "theta17=np.loadtxt('theta17.dat', usecols=(2))\n",
    "theta18=np.loadtxt('theta18.dat', usecols=(2))\n",
    "theta19=np.loadtxt('theta19.dat', usecols=(2))\n",
    "theta20=np.loadtxt('theta20.dat', usecols=(2))\n",
    "theta21=np.loadtxt('theta21.dat', usecols=(2))\n",
    "theta22=np.loadtxt('theta22.dat', usecols=(2))\n",
    "theta=[theta1,theta2,theta3,theta4,theta5,theta6,theta7,theta8,theta9,theta10,theta11,theta12,theta13,theta14,theta15,theta16,theta17,theta18,theta19,theta20,theta21,theta22]\n"
   ]
  },
  {
   "cell_type": "code",
   "execution_count": 90,
   "metadata": {},
   "outputs": [
    {
     "name": "stderr",
     "output_type": "stream",
     "text": [
      "100%|██████████| 500/500 [05:46<00:00,  1.44it/s]\n"
     ]
    }
   ],
   "source": [
    "f=open('llh.dat','w')\n",
    "for i in tqdm(range(500)):\n",
    "    u=-2.0+i*0.01\n",
    "    sum1=0\n",
    "    for j in range(22):\n",
    "        d=u*signal[j]+bkg[j]+theta[j][i]\n",
    "        e=events[j]*math.log(d)-d-math.log(math.factorial(event[j]))-(1/2)*inv_diag_V[j,j]*math.pow(theta[j][i],2)\n",
    "        sum1=sum1+e\n",
    "    f.write('%1.2f    %8.5f  \\n'% (u,sum1))\n",
    "f.close()"
   ]
  },
  {
   "cell_type": "code",
   "execution_count": 92,
   "metadata": {},
   "outputs": [
    {
     "data": {
      "image/png": "[encoded data removed]",
      "text/plain": [
       "<matplotlib.figure.Figure at 0x7f6d15e826d8>"
      ]
     },
     "metadata": {
      "needs_background": "light"
     },
     "output_type": "display_data"
    }
   ],
   "source": [
    "x1=np.loadtxt('llh.dat', usecols=0)\n",
    "y=np.loadtxt('llh.dat', usecols=1)\n",
    "plt.plot(x1,y)\n",
    "plt.plot(.23,-101.57559 , 'ro')\n",
    "plt.show()"
   ]
  },
  {
   "cell_type": "markdown",
   "metadata": {},
   "source": [
    "## From the file 'llh.dat' we can see that highest value of the likelihood occurs at 1.26\n",
    "## so MLE for $\\mu$:"
   ]
  },
  {
   "cell_type": "markdown",
   "metadata": {},
   "source": [
    "$$\\hat{\\mu}=1.26$$"
   ]
  },
  {
   "cell_type": "markdown",
   "metadata": {},
   "source": [
    "### $\\hat{\\theta}$ correspondind to $\\mu$=1.26: from the file"
   ]
  },
  {
   "cell_type": "markdown",
   "metadata": {},
   "source": [
    "### $\\hat{\\theta}=-90.92446,1.45104,-18.11897,14.00296,6.64476,0.65937,-1.43382,0.45373$"
   ]
  },
  {
   "cell_type": "markdown",
   "metadata": {},
   "source": [
    "# LIkelihood ratio test: $q(\\mu) vs \\mu$"
   ]
  },
  {
   "cell_type": "markdown",
   "metadata": {},
   "source": [
    "### From 'llh.dat' file we get the value of log likelihood at $\\mu=1.26$ and at estimated $\\theta$ as:\n",
    "###                       $ -27.32392$"
   ]
  },
  {
   "cell_type": "code",
   "execution_count": 93,
   "metadata": {},
   "outputs": [],
   "source": [
    "llh=-101.57559 "
   ]
  },
  {
   "cell_type": "markdown",
   "metadata": {},
   "source": [
    "### calculating q($\\mu$) for different $\\mu$"
   ]
  },
  {
   "cell_type": "code",
   "execution_count": 94,
   "metadata": {},
   "outputs": [],
   "source": [
    "# q(u):\n",
    "llh1=np.loadtxt('llh.dat', usecols=1)\n",
    "q_u_noco=(llh1-llh)*(-2)"
   ]
  },
  {
   "cell_type": "code",
   "execution_count": 95,
   "metadata": {},
   "outputs": [
    {
     "data": {
      "image/png": "[encoded data removed]",
      "text/plain": [
       "<matplotlib.figure.Figure at 0x7f6d1609af98>"
      ]
     },
     "metadata": {
      "needs_background": "light"
     },
     "output_type": "display_data"
    }
   ],
   "source": [
    "plt.plot(x1,q_u_noco)\n",
    "plt.plot(x_givenn,y_givenn, 'ro')\n",
    "plt.axis([-4,3,0,8])\n",
    "plt.xlabel('$\\mu$')\n",
    "plt.ylabel('$q_{\\mu}$')\n",
    "# plt.legend(['claculated','published'])\n",
    "# plt.title(\"no correlation case\")\n",
    "plt.show()"
   ]
  },
  {
   "cell_type": "code",
   "execution_count": null,
   "metadata": {},
   "outputs": [],
   "source": []
  },
  {
   "cell_type": "code",
   "execution_count": 65,
   "metadata": {},
   "outputs": [
    {
     "name": "stdout",
     "output_type": "stream",
     "text": [
      "Stored 'x1' (ndarray)\n"
     ]
    }
   ],
   "source": [
    "%store x1"
   ]
  },
  {
   "cell_type": "code",
   "execution_count": 66,
   "metadata": {},
   "outputs": [
    {
     "name": "stdout",
     "output_type": "stream",
     "text": [
      "Stored 'q_u_noco' (ndarray)\n"
     ]
    }
   ],
   "source": [
    "%store q_u_noco"
   ]
  },
  {
   "cell_type": "code",
   "execution_count": 69,
   "metadata": {},
   "outputs": [
    {
     "name": "stdout",
     "output_type": "stream",
     "text": [
      "Stored 'y_givenn' (ndarray)\n",
      "Stored 'x_givenn' (ndarray)\n"
     ]
    }
   ],
   "source": [
    "%store y_givenn\n",
    "%store x_givenn"
   ]
  },
  {
   "cell_type": "code",
   "execution_count": null,
   "metadata": {},
   "outputs": [],
   "source": []
  }
 ],
 "metadata": {
  "interpreter": {
   "hash": "31f2aee4e71d21fbe5cf8b01ff0e069b9275f58929596ceb00d14d90e3e16cd6"
  },
  "kernelspec": {
   "display_name": "Python 3.6.9 64-bit",
   "name": "python3"
  },
  "language_info": {
   "codemirror_mode": {
    "name": "ipython",
    "version": 3
   },
   "file_extension": ".py",
   "mimetype": "text/x-python",
   "name": "python",
   "nbconvert_exporter": "python",
   "pygments_lexer": "ipython3",
   "version": "3.6.9"
  }
 },
 "nbformat": 4,
 "nbformat_minor": 4
}
